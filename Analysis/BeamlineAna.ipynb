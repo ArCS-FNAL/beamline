{
 "cells": [
  {
   "cell_type": "code",
   "execution_count": 1,
   "id": "0522e192-bac6-4002-b663-35d215e9a46f",
   "metadata": {},
   "outputs": [],
   "source": [
    "import datetime\n",
    "import numpy as np\n",
    "import pandas as pd\n",
    "import matplotlib as mpl\n",
    "import matplotlib.pyplot as plt\n",
    "import matplotlib.patches as patches\n",
    "import matplotlib.gridspec as gridspec\n",
    "import uproot\n",
    "import math\n",
    "from glob import glob\n",
    "%matplotlib inline\n",
    "\n",
    "%load_ext autoreload\n",
    "%autoreload 2\n",
    "\n",
    "prop_cycle = plt.rcParams['axes.prop_cycle']\n",
    "_colors = prop_cycle.by_key()['color']\n",
    "\n",
    "_save_dir = 'plots/'"
   ]
  },
  {
   "cell_type": "code",
   "execution_count": 43,
   "id": "cd2f701b-f5c9-43ee-af54-17cf346c17c4",
   "metadata": {},
   "outputs": [],
   "source": [
    "file = uproot.open('files/MergedAtStartLinesim_LAriaT_13degProdxn_10degAna_SurveyedGeom_10000jobsof35k_64GeV_pos60Amps_1.root')\n",
    "file = uproot.open('files/merged.root')"
   ]
  },
  {
   "cell_type": "code",
   "execution_count": 44,
   "id": "fe579b2b-1987-4ed0-8c1a-1e91bcda1163",
   "metadata": {},
   "outputs": [
    {
     "data": {
      "text/plain": [
       "['SpillID',\n",
       " 'EventID',\n",
       " 'TrackID',\n",
       " 'TrackPresentDet1',\n",
       " 'xDet1',\n",
       " 'yDet1',\n",
       " 'zDet1',\n",
       " 'tDet1',\n",
       " 'PxDet1',\n",
       " 'PyDet1',\n",
       " 'PzDet1',\n",
       " 'PDGidDet1',\n",
       " 'ParentIDDet1',\n",
       " 'TrackPresentDet2',\n",
       " 'xDet2',\n",
       " 'yDet2',\n",
       " 'zDet2',\n",
       " 'tDet2',\n",
       " 'PxDet2',\n",
       " 'PyDet2',\n",
       " 'PzDet2',\n",
       " 'PDGidDet2',\n",
       " 'ParentIDDet2',\n",
       " 'TrackPresentDet3',\n",
       " 'xDet3',\n",
       " 'yDet3',\n",
       " 'zDet3',\n",
       " 'tDet3',\n",
       " 'PxDet3',\n",
       " 'PyDet3',\n",
       " 'PzDet3',\n",
       " 'PDGidDet3',\n",
       " 'ParentIDDet3',\n",
       " 'TrackPresentDet4',\n",
       " 'xDet4',\n",
       " 'yDet4',\n",
       " 'zDet4',\n",
       " 'tDet4',\n",
       " 'PxDet4',\n",
       " 'PyDet4',\n",
       " 'PzDet4',\n",
       " 'PDGidDet4',\n",
       " 'ParentIDDet4',\n",
       " 'TrackPresentDet5',\n",
       " 'xDet5',\n",
       " 'yDet5',\n",
       " 'zDet5',\n",
       " 'tDet5',\n",
       " 'PxDet5',\n",
       " 'PyDet5',\n",
       " 'PzDet5',\n",
       " 'PDGidDet5',\n",
       " 'ParentIDDet5',\n",
       " 'TrackPresentDet6',\n",
       " 'xDet6',\n",
       " 'yDet6',\n",
       " 'zDet6',\n",
       " 'tDet6',\n",
       " 'PxDet6',\n",
       " 'PyDet6',\n",
       " 'PzDet6',\n",
       " 'PDGidDet6',\n",
       " 'ParentIDDet6',\n",
       " 'TrackPresentDet7',\n",
       " 'xDet7',\n",
       " 'yDet7',\n",
       " 'zDet7',\n",
       " 'tDet7',\n",
       " 'PxDet7',\n",
       " 'PyDet7',\n",
       " 'PzDet7',\n",
       " 'PDGidDet7',\n",
       " 'ParentIDDet7',\n",
       " 'TrackPresentStartLine',\n",
       " 'xStartLine',\n",
       " 'yStartLine',\n",
       " 'zStartLine',\n",
       " 'tStartLine',\n",
       " 'PxStartLine',\n",
       " 'PyStartLine',\n",
       " 'PzStartLine',\n",
       " 'PDGidStartLine',\n",
       " 'ParentIDStartLine',\n",
       " 'TrackPresentTOFus',\n",
       " 'xTOFus',\n",
       " 'yTOFus',\n",
       " 'zTOFus',\n",
       " 'tTOFus',\n",
       " 'PxTOFus',\n",
       " 'PyTOFus',\n",
       " 'PzTOFus',\n",
       " 'PDGidTOFus',\n",
       " 'ParentIDTOFus',\n",
       " 'TrackPresentTOFds',\n",
       " 'xTOFds',\n",
       " 'yTOFds',\n",
       " 'zTOFds',\n",
       " 'tTOFds',\n",
       " 'PxTOFds',\n",
       " 'PyTOFds',\n",
       " 'PzTOFds',\n",
       " 'PDGidTOFds',\n",
       " 'ParentIDTOFds']"
      ]
     },
     "execution_count": 44,
     "metadata": {},
     "output_type": "execute_result"
    }
   ],
   "source": [
    "file['EventTree_Spill1'].keys()"
   ]
  },
  {
   "cell_type": "code",
   "execution_count": 45,
   "id": "151364b8-1a32-42b6-8837-e142e32972fd",
   "metadata": {},
   "outputs": [],
   "source": [
    "arrays = file['EventTree_Spill1'].arrays()"
   ]
  },
  {
   "cell_type": "code",
   "execution_count": 49,
   "id": "68f7327f-831d-4654-a187-a3f65176820a",
   "metadata": {},
   "outputs": [
    {
     "data": {
      "text/html": [
       "<pre>[22,\n",
       " -11,\n",
       " 22,\n",
       " 211,\n",
       " 22,\n",
       " 22,\n",
       " -11,\n",
       " 22,\n",
       " 2.21e+03,\n",
       " 22,\n",
       " ...,\n",
       " 22,\n",
       " 211,\n",
       " 22,\n",
       " 22,\n",
       " 211,\n",
       " -11,\n",
       " 2.21e+03,\n",
       " -11,\n",
       " 22]\n",
       "------------------\n",
       "type: 59 * float64</pre>"
      ],
      "text/plain": [
       "<Array [22, -11, 22, 211, 22, ..., -11, 2.21e+03, -11, 22] type='59 * float64'>"
      ]
     },
     "execution_count": 49,
     "metadata": {},
     "output_type": "execute_result"
    }
   ],
   "source": [
    "arrays['PDGidDet4'][mask]"
   ]
  },
  {
   "cell_type": "code",
   "execution_count": 47,
   "id": "7c5136b8-3ae9-40a8-acdb-1115bf2e3101",
   "metadata": {},
   "outputs": [
    {
     "data": {
      "text/plain": [
       "59"
      ]
     },
     "execution_count": 47,
     "metadata": {},
     "output_type": "execute_result"
    }
   ],
   "source": [
    "np.sum(arrays['TrackPresentDet4'])"
   ]
  },
  {
   "cell_type": "code",
   "execution_count": 50,
   "id": "6dc2578c-5608-47d8-a222-3a7f74717ddb",
   "metadata": {},
   "outputs": [],
   "source": [
    "mask = arrays['TrackPresentDet4'] == True\n",
    "\n",
    "px = arrays['PxDet4'][mask]\n",
    "py = arrays['PyDet4'][mask]\n",
    "pz = arrays['PzDet4'][mask]\n",
    "p = np.sqrt(px**2 + py**2 + pz**2)\n",
    "pdg = arrays['PDGidDet4'][mask]"
   ]
  },
  {
   "cell_type": "code",
   "execution_count": 51,
   "id": "92e1db36-ae68-488d-a5cc-ad0b04bd1c48",
   "metadata": {},
   "outputs": [
    {
     "data": {
      "image/png": "[encoded data removed]",
      "text/plain": [
       "<Figure size 600x500 with 1 Axes>"
      ]
     },
     "metadata": {},
     "output_type": "display_data"
    }
   ],
   "source": [
    "fig, ax = plt.subplots(ncols=1, nrows=1, figsize=(6, 5))\n",
    "\n",
    "ax.hist(p, bins=50)\n",
    "ax.hist(p[pdg==211], bins=50)\n",
    "\n",
    "plt.show()"
   ]
  },
  {
   "cell_type": "code",
   "execution_count": null,
   "id": "786b16f9-c9bf-470e-a4b3-7925af976523",
   "metadata": {},
   "outputs": [],
   "source": []
  }
 ],
 "metadata": {
  "kernelspec": {
   "display_name": "Python 3 (ipykernel)",
   "language": "python",
   "name": "python3"
  },
  "language_info": {
   "codemirror_mode": {
    "name": "ipython",
    "version": 3
   },
   "file_extension": ".py",
   "mimetype": "text/x-python",
   "name": "python",
   "nbconvert_exporter": "python",
   "pygments_lexer": "ipython3",
   "version": "3.12.3"
  }
 },
 "nbformat": 4,
 "nbformat_minor": 5
}
